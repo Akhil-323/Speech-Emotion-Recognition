{
 "cells": [
  {
   "cell_type": "code",
   "execution_count": 1,
   "metadata": {
    "id": "b0Aj7vU26RqQ"
   },
   "outputs": [],
   "source": [
    "import pandas as pd\n",
    "import numpy as np\n",
    "\n",
    "import os\n",
    "import sys\n",
    "\n",
    "import librosa\n",
    "import librosa.display\n",
    "import seaborn as sns\n",
    "import matplotlib.pyplot as plt\n",
    "\n",
    "from sklearn.preprocessing import StandardScaler, OneHotEncoder\n",
    "from sklearn.metrics import confusion_matrix, classification_report\n",
    "from sklearn.model_selection import train_test_split\n",
    "\n",
    "from IPython.display import Audio\n",
    "\n",
    "import tensorflow as tf\n",
    "from tensorflow.keras.callbacks import ReduceLROnPlateau\n",
    "from tensorflow.keras.models import Sequential\n",
    "from tensorflow.keras.layers import Dense, LSTM, Flatten, Dropout, BatchNormalization\n",
    "from tensorflow.keras.callbacks import ModelCheckpoint\n",
    "\n",
    "import warnings\n",
    "if not sys.warnoptions:\n",
    "    warnings.simplefilter(\"ignore\")\n",
    "warnings.filterwarnings(\"ignore\", category=DeprecationWarning) \n"
   ]
  },
  {
   "cell_type": "code",
   "execution_count": 2,
   "metadata": {
    "colab": {
     "base_uri": "https://localhost:8080/"
    },
    "id": "fIK2NbSU6zX5",
    "outputId": "0543cc12-9ed4-4019-a723-42308240715f"
   },
   "outputs": [
    {
     "name": "stdout",
     "output_type": "stream",
     "text": [
      "Mounted at /content/drive\n"
     ]
    }
   ],
   "source": [
    "from google.colab import drive\n",
    "drive.mount('/content/drive', force_remount = True)"
   ]
  },
  {
   "cell_type": "code",
   "execution_count": 3,
   "metadata": {
    "id": "S8658y1m7E4V"
   },
   "outputs": [],
   "source": [
    "Ravadess = \"/content/drive/MyDrive/AllAudioFiles/\""
   ]
  },
  {
   "cell_type": "code",
   "execution_count": 5,
   "metadata": {
    "colab": {
     "base_uri": "https://localhost:8080/",
     "height": 206
    },
    "id": "ICqitt9N7UYu",
    "outputId": "48496564-2bd1-44f0-f9df-cd6e05f86640"
   },
   "outputs": [
    {
     "data": {
      "text/html": [
       "\n",
       "  <div id=\"df-5809083d-ad10-45ea-9b22-d90e3178674b\">\n",
       "    <div class=\"colab-df-container\">\n",
       "      <div>\n",
       "<style scoped>\n",
       "    .dataframe tbody tr th:only-of-type {\n",
       "        vertical-align: middle;\n",
       "    }\n",
       "\n",
       "    .dataframe tbody tr th {\n",
       "        vertical-align: top;\n",
       "    }\n",
       "\n",
       "    .dataframe thead th {\n",
       "        text-align: right;\n",
       "    }\n",
       "</style>\n",
       "<table border=\"1\" class=\"dataframe\">\n",
       "  <thead>\n",
       "    <tr style=\"text-align: right;\">\n",
       "      <th></th>\n",
       "      <th>Emotions</th>\n",
       "      <th>Path</th>\n",
       "    </tr>\n",
       "  </thead>\n",
       "  <tbody>\n",
       "    <tr>\n",
       "      <th>0</th>\n",
       "      <td>neutral</td>\n",
       "      <td>/content/drive/MyDrive/AllAudioFiles/M_004_T_N...</td>\n",
       "    </tr>\n",
       "    <tr>\n",
       "      <th>1</th>\n",
       "      <td>neutral</td>\n",
       "      <td>/content/drive/MyDrive/AllAudioFiles/M_004_T_N...</td>\n",
       "    </tr>\n",
       "    <tr>\n",
       "      <th>2</th>\n",
       "      <td>neutral</td>\n",
       "      <td>/content/drive/MyDrive/AllAudioFiles/M_004_T_N...</td>\n",
       "    </tr>\n",
       "    <tr>\n",
       "      <th>3</th>\n",
       "      <td>neutral</td>\n",
       "      <td>/content/drive/MyDrive/AllAudioFiles/M_004_T_N...</td>\n",
       "    </tr>\n",
       "    <tr>\n",
       "      <th>4</th>\n",
       "      <td>neutral</td>\n",
       "      <td>/content/drive/MyDrive/AllAudioFiles/M_004_T_N...</td>\n",
       "    </tr>\n",
       "  </tbody>\n",
       "</table>\n",
       "</div>\n",
       "      <button class=\"colab-df-convert\" onclick=\"convertToInteractive('df-5809083d-ad10-45ea-9b22-d90e3178674b')\"\n",
       "              title=\"Convert this dataframe to an interactive table.\"\n",
       "              style=\"display:none;\">\n",
       "        \n",
       "  <svg xmlns=\"http://www.w3.org/2000/svg\" height=\"24px\"viewBox=\"0 0 24 24\"\n",
       "       width=\"24px\">\n",
       "    <path d=\"M0 0h24v24H0V0z\" fill=\"none\"/>\n",
       "    <path d=\"M18.56 5.44l.94 2.06.94-2.06 2.06-.94-2.06-.94-.94-2.06-.94 2.06-2.06.94zm-11 1L8.5 8.5l.94-2.06 2.06-.94-2.06-.94L8.5 2.5l-.94 2.06-2.06.94zm10 10l.94 2.06.94-2.06 2.06-.94-2.06-.94-.94-2.06-.94 2.06-2.06.94z\"/><path d=\"M17.41 7.96l-1.37-1.37c-.4-.4-.92-.59-1.43-.59-.52 0-1.04.2-1.43.59L10.3 9.45l-7.72 7.72c-.78.78-.78 2.05 0 2.83L4 21.41c.39.39.9.59 1.41.59.51 0 1.02-.2 1.41-.59l7.78-7.78 2.81-2.81c.8-.78.8-2.07 0-2.86zM5.41 20L4 18.59l7.72-7.72 1.47 1.35L5.41 20z\"/>\n",
       "  </svg>\n",
       "      </button>\n",
       "      \n",
       "  <style>\n",
       "    .colab-df-container {\n",
       "      display:flex;\n",
       "      flex-wrap:wrap;\n",
       "      gap: 12px;\n",
       "    }\n",
       "\n",
       "    .colab-df-convert {\n",
       "      background-color: #E8F0FE;\n",
       "      border: none;\n",
       "      border-radius: 50%;\n",
       "      cursor: pointer;\n",
       "      display: none;\n",
       "      fill: #1967D2;\n",
       "      height: 32px;\n",
       "      padding: 0 0 0 0;\n",
       "      width: 32px;\n",
       "    }\n",
       "\n",
       "    .colab-df-convert:hover {\n",
       "      background-color: #E2EBFA;\n",
       "      box-shadow: 0px 1px 2px rgba(60, 64, 67, 0.3), 0px 1px 3px 1px rgba(60, 64, 67, 0.15);\n",
       "      fill: #174EA6;\n",
       "    }\n",
       "\n",
       "    [theme=dark] .colab-df-convert {\n",
       "      background-color: #3B4455;\n",
       "      fill: #D2E3FC;\n",
       "    }\n",
       "\n",
       "    [theme=dark] .colab-df-convert:hover {\n",
       "      background-color: #434B5C;\n",
       "      box-shadow: 0px 1px 3px 1px rgba(0, 0, 0, 0.15);\n",
       "      filter: drop-shadow(0px 1px 2px rgba(0, 0, 0, 0.3));\n",
       "      fill: #FFFFFF;\n",
       "    }\n",
       "  </style>\n",
       "\n",
       "      <script>\n",
       "        const buttonEl =\n",
       "          document.querySelector('#df-5809083d-ad10-45ea-9b22-d90e3178674b button.colab-df-convert');\n",
       "        buttonEl.style.display =\n",
       "          google.colab.kernel.accessAllowed ? 'block' : 'none';\n",
       "\n",
       "        async function convertToInteractive(key) {\n",
       "          const element = document.querySelector('#df-5809083d-ad10-45ea-9b22-d90e3178674b');\n",
       "          const dataTable =\n",
       "            await google.colab.kernel.invokeFunction('convertToInteractive',\n",
       "                                                     [key], {});\n",
       "          if (!dataTable) return;\n",
       "\n",
       "          const docLinkHtml = 'Like what you see? Visit the ' +\n",
       "            '<a target=\"_blank\" href=https://colab.research.google.com/notebooks/data_table.ipynb>data table notebook</a>'\n",
       "            + ' to learn more about interactive tables.';\n",
       "          element.innerHTML = '';\n",
       "          dataTable['output_type'] = 'display_data';\n",
       "          await google.colab.output.renderOutput(dataTable, element);\n",
       "          const docLink = document.createElement('div');\n",
       "          docLink.innerHTML = docLinkHtml;\n",
       "          element.appendChild(docLink);\n",
       "        }\n",
       "      </script>\n",
       "    </div>\n",
       "  </div>\n",
       "  "
      ],
      "text/plain": [
       "  Emotions                                               Path\n",
       "0  neutral  /content/drive/MyDrive/AllAudioFiles/M_004_T_N...\n",
       "1  neutral  /content/drive/MyDrive/AllAudioFiles/M_004_T_N...\n",
       "2  neutral  /content/drive/MyDrive/AllAudioFiles/M_004_T_N...\n",
       "3  neutral  /content/drive/MyDrive/AllAudioFiles/M_004_T_N...\n",
       "4  neutral  /content/drive/MyDrive/AllAudioFiles/M_004_T_N..."
      ]
     },
     "execution_count": 5,
     "metadata": {},
     "output_type": "execute_result"
    }
   ],
   "source": [
    "Ravadess_directory_list = os.listdir(Ravadess)\n",
    "\n",
    "file_emotion = []\n",
    "file_path = []\n",
    "\n",
    "for file in Ravadess_directory_list:\n",
    "    # storing file paths\n",
    "    file_path.append(Ravadess + file)\n",
    "    # storing file emotions\n",
    "    part=file.split('_')\n",
    "    if part[3] == 'S':\n",
    "       file_emotion.append('sad')\n",
    "    elif part[3] == 'A':\n",
    "      file_emotion.append('angry')\n",
    "    elif part[3] == 'H':\n",
    "      file_emotion.append('happy')\n",
    "    elif part[3] == 'N':\n",
    "      file_emotion.append('neutral')\n",
    "    else:\n",
    "      file_emotion.append('Unknown')\n",
    "        \n",
    "# dataframe for emotion of files\n",
    "emotion_df = pd.DataFrame(file_emotion, columns=['Emotions'])\n",
    "\n",
    "# dataframe for path of files.\n",
    "path_df = pd.DataFrame(file_path, columns=['Path'])\n",
    "Ravadess_df = pd.concat([emotion_df, path_df], axis=1)\n",
    "Ravadess_df.head()"
   ]
  },
  {
   "cell_type": "code",
   "execution_count": 6,
   "metadata": {
    "colab": {
     "base_uri": "https://localhost:8080/",
     "height": 355
    },
    "id": "I1fyhim77iMI",
    "outputId": "d243f9f3-3b9c-4436-f59e-49258fc423fe"
   },
   "outputs": [
    {
     "name": "stderr",
     "output_type": "stream",
     "text": [
      "/usr/local/lib/python3.7/dist-packages/seaborn/_decorators.py:43: FutureWarning: Pass the following variable as a keyword arg: x. From version 0.12, the only valid positional argument will be `data`, and passing other arguments without an explicit keyword will result in an error or misinterpretation.\n",
      "  FutureWarning\n"
     ]
    },
    {
     "data": {
      "image/png": "[encoded data removed]",
      "text/plain": [
       "<Figure size 432x288 with 1 Axes>"
      ]
     },
     "metadata": {
      "needs_background": "light"
     },
     "output_type": "display_data"
    }
   ],
   "source": [
    "plt.title('Count of Emotions', size=16)\n",
    "sns.countplot(Ravadess_df.Emotions)\n",
    "plt.ylabel('Count', size=12)\n",
    "plt.xlabel('Emotions', size=12)\n",
    "sns.despine(top=True, right=True, left=False, bottom=False)\n",
    "plt.show()"
   ]
  },
  {
   "cell_type": "code",
   "execution_count": 7,
   "metadata": {
    "id": "rHyVh3w17ojE"
   },
   "outputs": [],
   "source": [
    "def create_waveplot(data, sr, e):\n",
    "    plt.figure(figsize=(10, 3))\n",
    "    plt.title('Waveplot for {} emotion'.format(e), size=15)\n",
    "    librosa.display.waveplot(data, sr=sr)\n",
    "    plt.show()\n",
    "\n",
    "def create_spectrogram(data, sr, e):\n",
    "    X = librosa.stft(data)\n",
    "    Xdb = librosa.amplitude_to_db(abs(X))\n",
    "    plt.figure(figsize=(12, 3))\n",
    "    plt.title('Spectrogram for {} emotion'.format(e), size=15)\n",
    "    librosa.display.specshow(Xdb, sr=sr, x_axis='time', y_axis='hz')   \n",
    "    plt.colorbar()"
   ]
  },
  {
   "cell_type": "code",
   "execution_count": 8,
   "metadata": {
    "colab": {
     "base_uri": "https://localhost:8080/",
     "height": 528
    },
    "id": "eLZhElfB7vWb",
    "outputId": "fc57e413-6d3e-4814-d0e0-ce7bd8ac3955"
   },
   "outputs": [
    {
     "data": {
      "image/png": "[encoded data removed]",
      "text/plain": [
       "<Figure size 720x216 with 1 Axes>"
      ]
     },
     "metadata": {
      "needs_background": "light"
     },
     "output_type": "display_data"
    },
    {
     "data": {
      "text/html": [
       "\n",
       "                <audio  controls=\"controls\" >\n",
       "                    <source src=\"data:audio/x-wav;base64,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\" type=\"audio/x-wav\" />\n",
       "                    Your browser does not support the audio element.\n",
       "                </audio>\n",
       "              "
      ],
      "text/plain": [
       "<IPython.lib.display.Audio object>"
      ]
     },
     "execution_count": 8,
     "metadata": {},
     "output_type": "execute_result"
    },
    {
     "data": {
      "image/png": "[encoded data removed]",
      "text/plain": [
       "<Figure size 864x216 with 2 Axes>"
      ]
     },
     "metadata": {
      "needs_background": "light"
     },
     "output_type": "display_data"
    }
   ],
   "source": [
    "emotion='angry'\n",
    "path = np.array(Ravadess_df.Path[Ravadess_df.Emotions==emotion])[0]\n",
    "data, sampling_rate = librosa.load(path)\n",
    "create_waveplot(data, sampling_rate, emotion)\n",
    "create_spectrogram(data, sampling_rate, emotion)\n",
    "Audio(path)"
   ]
  },
  {
   "cell_type": "code",
   "execution_count": 9,
   "metadata": {
    "id": "D89cUjQ872O2"
   },
   "outputs": [],
   "source": [
    "labels = {'sad':0,'angry':1,'happy':2,'neutral':3,'unknown':4}\n",
    "Ravadess_df.replace({'Emotions':labels},inplace=True)"
   ]
  },
  {
   "cell_type": "code",
   "execution_count": 10,
   "metadata": {
    "colab": {
     "base_uri": "https://localhost:8080/"
    },
    "id": "LQC9Crfj8Fcj",
    "outputId": "0ed7a337-1c35-4d1d-e0f4-3c4ecc5a2718"
   },
   "outputs": [
    {
     "name": "stdout",
     "output_type": "stream",
     "text": [
      "0\n",
      "500\n",
      "1000\n",
      "1500\n",
      "2000\n",
      "2500\n",
      "3000\n",
      "3500\n",
      "4000\n",
      "4500\n",
      "5000\n",
      "5500\n",
      "6000\n",
      "6500\n",
      "7000\n"
     ]
    }
   ],
   "source": [
    "num_mfcc=13\n",
    "n_fft=2048\n",
    "hop_length=512\n",
    "SAMPLE_RATE = 22050\n",
    "data = {\n",
    "        \"labels\": [],\n",
    "        \"mfcc\": []\n",
    "    }\n",
    "for i in range(7442):\n",
    "    data['labels'].append(Ravadess_df.iloc[i,0])\n",
    "    signal, sample_rate = librosa.load(Ravadess_df.iloc[i,1], sr=SAMPLE_RATE)\n",
    "    mfcc = librosa.feature.mfcc(signal, sample_rate, n_mfcc=13, n_fft=2048, hop_length=512)\n",
    "    mfcc = mfcc.T\n",
    "    data[\"mfcc\"].append(np.asarray(mfcc))\n",
    "    if i%500==0:\n",
    "        print(i)"
   ]
  },
  {
   "cell_type": "code",
   "execution_count": 11,
   "metadata": {
    "colab": {
     "base_uri": "https://localhost:8080/"
    },
    "id": "PkNK0Xo4GpXZ",
    "outputId": "714ef680-85bf-4915-c1e2-cefb86544305"
   },
   "outputs": [
    {
     "name": "stderr",
     "output_type": "stream",
     "text": [
      "/usr/local/lib/python3.7/dist-packages/ipykernel_launcher.py:1: VisibleDeprecationWarning: Creating an ndarray from ragged nested sequences (which is a list-or-tuple of lists-or-tuples-or ndarrays with different lengths or shapes) is deprecated. If you meant to do this, you must specify 'dtype=object' when creating the ndarray.\n",
      "  \"\"\"Entry point for launching an IPython kernel.\n"
     ]
    }
   ],
   "source": [
    "X = np.asarray(data['mfcc'])\n",
    "y = np.asarray(data[\"labels\"])"
   ]
  },
  {
   "cell_type": "code",
   "execution_count": 12,
   "metadata": {
    "colab": {
     "base_uri": "https://localhost:8080/"
    },
    "id": "QxunUnaiGspV",
    "outputId": "66b12f77-ccb6-4ac2-88ba-cb113519ac27"
   },
   "outputs": [
    {
     "data": {
      "text/plain": [
       "(7442, 789, 13)"
      ]
     },
     "execution_count": 12,
     "metadata": {},
     "output_type": "execute_result"
    }
   ],
   "source": [
    "X = tf.keras.preprocessing.sequence.pad_sequences(X)\n",
    "X.shape"
   ]
  },
  {
   "cell_type": "code",
   "execution_count": 13,
   "metadata": {
    "id": "vwQXQau2Gxyk"
   },
   "outputs": [],
   "source": [
    "X_train, X_test, y_train, y_test = train_test_split(X, y, test_size=0.1)\n",
    "X_train, X_validation, y_train, y_validation = train_test_split(X_train, y_train, test_size=0.2)"
   ]
  },
  {
   "cell_type": "code",
   "execution_count": 14,
   "metadata": {
    "colab": {
     "base_uri": "https://localhost:8080/"
    },
    "id": "joPNv0f2G0YY",
    "outputId": "1565f292-4174-4bfe-bfbb-9ec3104a1696"
   },
   "outputs": [
    {
     "name": "stdout",
     "output_type": "stream",
     "text": [
      "(5357, 789, 13) (5357,) (1340, 789, 13) (1340,) (745, 789, 13) (745,)\n"
     ]
    }
   ],
   "source": [
    "print(X_train.shape,y_train.shape,X_validation.shape,y_validation.shape,X_test.shape,y_test.shape)"
   ]
  },
  {
   "cell_type": "code",
   "execution_count": 15,
   "metadata": {
    "id": "UicRG5LOG4Ty"
   },
   "outputs": [],
   "source": [
    "def build_model(input_shape):\n",
    "    model = tf.keras.Sequential()\n",
    "\n",
    "    model.add(LSTM(128, input_shape=input_shape, return_sequences=True))\n",
    "    model.add(LSTM(64))\n",
    "    \n",
    "    model.add(Dense(64, activation='relu'))\n",
    "    model.add(Dropout(0.3))\n",
    "\n",
    "    model.add(Dense(6, activation='softmax'))\n",
    "\n",
    "    return model"
   ]
  },
  {
   "cell_type": "code",
   "execution_count": 16,
   "metadata": {
    "colab": {
     "base_uri": "https://localhost:8080/"
    },
    "id": "J1ISCLQwG7NP",
    "outputId": "cc0143f2-5e2b-4db0-d100-9c721cad2e93"
   },
   "outputs": [
    {
     "name": "stdout",
     "output_type": "stream",
     "text": [
      "Model: \"sequential\"\n",
      "_________________________________________________________________\n",
      " Layer (type)                Output Shape              Param #   \n",
      "=================================================================\n",
      " lstm (LSTM)                 (None, None, 128)         72704     \n",
      "                                                                 \n",
      " lstm_1 (LSTM)               (None, 64)                49408     \n",
      "                                                                 \n",
      " dense (Dense)               (None, 64)                4160      \n",
      "                                                                 \n",
      " dropout (Dropout)           (None, 64)                0         \n",
      "                                                                 \n",
      " dense_1 (Dense)             (None, 6)                 390       \n",
      "                                                                 \n",
      "=================================================================\n",
      "Total params: 126,662\n",
      "Trainable params: 126,662\n",
      "Non-trainable params: 0\n",
      "_________________________________________________________________\n"
     ]
    }
   ],
   "source": [
    "input_shape = (None,13)\n",
    "model = build_model(input_shape)\n",
    "\n",
    "# compile model\n",
    "optimiser = tf.keras.optimizers.Adam(learning_rate=0.001)\n",
    "model.compile(optimizer=optimiser,\n",
    "                  loss='sparse_categorical_crossentropy',\n",
    "                  metrics=['accuracy'])\n",
    "\n",
    "model.summary()"
   ]
  },
  {
   "cell_type": "code",
   "execution_count": 17,
   "metadata": {
    "colab": {
     "base_uri": "https://localhost:8080/"
    },
    "id": "7qRZlNY8G_PK",
    "outputId": "4cc412b5-2160-4fb7-db6a-96db65e52d09"
   },
   "outputs": [
    {
     "name": "stdout",
     "output_type": "stream",
     "text": [
      "Epoch 1/30\n",
      "168/168 [==============================] - 181s 1s/step - loss: 1.0382 - accuracy: 0.5468 - val_loss: 0.7090 - val_accuracy: 0.7090\n",
      "Epoch 2/30\n",
      "168/168 [==============================] - 177s 1s/step - loss: 0.7314 - accuracy: 0.6989 - val_loss: 0.7326 - val_accuracy: 0.7022\n",
      "Epoch 3/30\n",
      "168/168 [==============================] - 176s 1s/step - loss: 0.6669 - accuracy: 0.7314 - val_loss: 0.5532 - val_accuracy: 0.7754\n",
      "Epoch 4/30\n",
      "168/168 [==============================] - 177s 1s/step - loss: 0.5602 - accuracy: 0.7779 - val_loss: 0.4919 - val_accuracy: 0.8090\n",
      "Epoch 5/30\n",
      "168/168 [==============================] - 178s 1s/step - loss: 0.5210 - accuracy: 0.7984 - val_loss: 0.4779 - val_accuracy: 0.8112\n",
      "Epoch 6/30\n",
      "168/168 [==============================] - 177s 1s/step - loss: 0.4677 - accuracy: 0.8191 - val_loss: 0.6075 - val_accuracy: 0.7545\n",
      "Epoch 7/30\n",
      "168/168 [==============================] - 176s 1s/step - loss: 0.4528 - accuracy: 0.8270 - val_loss: 0.4212 - val_accuracy: 0.8284\n",
      "Epoch 8/30\n",
      "168/168 [==============================] - 176s 1s/step - loss: 0.4167 - accuracy: 0.8488 - val_loss: 0.4226 - val_accuracy: 0.8321\n",
      "Epoch 9/30\n",
      "168/168 [==============================] - 176s 1s/step - loss: 0.3755 - accuracy: 0.8600 - val_loss: 0.3921 - val_accuracy: 0.8425\n",
      "Epoch 10/30\n",
      "168/168 [==============================] - 176s 1s/step - loss: 0.3551 - accuracy: 0.8680 - val_loss: 0.4183 - val_accuracy: 0.8418\n",
      "Epoch 11/30\n",
      "168/168 [==============================] - 175s 1s/step - loss: 0.3253 - accuracy: 0.8805 - val_loss: 0.3894 - val_accuracy: 0.8500\n",
      "Epoch 12/30\n",
      "168/168 [==============================] - 176s 1s/step - loss: 0.3026 - accuracy: 0.8878 - val_loss: 0.3985 - val_accuracy: 0.8410\n",
      "Epoch 13/30\n",
      "168/168 [==============================] - 177s 1s/step - loss: 0.2841 - accuracy: 0.8934 - val_loss: 0.3401 - val_accuracy: 0.8724\n",
      "Epoch 14/30\n",
      "168/168 [==============================] - 178s 1s/step - loss: 0.2630 - accuracy: 0.8998 - val_loss: 0.3260 - val_accuracy: 0.8821\n",
      "Epoch 15/30\n",
      "168/168 [==============================] - 176s 1s/step - loss: 0.2377 - accuracy: 0.9132 - val_loss: 0.3352 - val_accuracy: 0.8813\n",
      "Epoch 16/30\n",
      "168/168 [==============================] - 175s 1s/step - loss: 0.2377 - accuracy: 0.9121 - val_loss: 0.3688 - val_accuracy: 0.8724\n",
      "Epoch 17/30\n",
      "168/168 [==============================] - 176s 1s/step - loss: 0.2159 - accuracy: 0.9182 - val_loss: 0.4028 - val_accuracy: 0.8672\n",
      "Epoch 18/30\n",
      "168/168 [==============================] - 174s 1s/step - loss: 0.2164 - accuracy: 0.9199 - val_loss: 0.3832 - val_accuracy: 0.8739\n",
      "Epoch 19/30\n",
      "168/168 [==============================] - 175s 1s/step - loss: 0.1892 - accuracy: 0.9317 - val_loss: 0.3463 - val_accuracy: 0.8761\n",
      "Epoch 20/30\n",
      "168/168 [==============================] - 173s 1s/step - loss: 0.1750 - accuracy: 0.9418 - val_loss: 0.3567 - val_accuracy: 0.8754\n",
      "Epoch 21/30\n",
      "168/168 [==============================] - 175s 1s/step - loss: 0.1695 - accuracy: 0.9414 - val_loss: 0.2803 - val_accuracy: 0.8925\n",
      "Epoch 22/30\n",
      "168/168 [==============================] - 175s 1s/step - loss: 0.1924 - accuracy: 0.9328 - val_loss: 0.5411 - val_accuracy: 0.7888\n",
      "Epoch 23/30\n",
      "168/168 [==============================] - 175s 1s/step - loss: 0.1773 - accuracy: 0.9386 - val_loss: 0.3851 - val_accuracy: 0.8634\n",
      "Epoch 24/30\n",
      "168/168 [==============================] - 176s 1s/step - loss: 0.1641 - accuracy: 0.9382 - val_loss: 0.3173 - val_accuracy: 0.8888\n",
      "Epoch 25/30\n",
      "168/168 [==============================] - 176s 1s/step - loss: 0.1210 - accuracy: 0.9604 - val_loss: 0.2978 - val_accuracy: 0.8948\n",
      "Epoch 26/30\n",
      "168/168 [==============================] - 175s 1s/step - loss: 0.1109 - accuracy: 0.9612 - val_loss: 0.3943 - val_accuracy: 0.8761\n",
      "Epoch 27/30\n",
      "168/168 [==============================] - 176s 1s/step - loss: 0.1341 - accuracy: 0.9505 - val_loss: 0.3284 - val_accuracy: 0.8910\n",
      "Epoch 28/30\n",
      "168/168 [==============================] - 176s 1s/step - loss: 0.0971 - accuracy: 0.9664 - val_loss: 0.3436 - val_accuracy: 0.8978\n",
      "Epoch 29/30\n",
      "168/168 [==============================] - 176s 1s/step - loss: 0.1037 - accuracy: 0.9621 - val_loss: 0.3886 - val_accuracy: 0.8866\n",
      "Epoch 30/30\n",
      "168/168 [==============================] - 175s 1s/step - loss: 0.0861 - accuracy: 0.9681 - val_loss: 0.3082 - val_accuracy: 0.9037\n"
     ]
    }
   ],
   "source": [
    "model_history = model.fit(X_train, y_train, validation_data=(X_validation, y_validation), batch_size=32, epochs=30)"
   ]
  },
  {
   "cell_type": "code",
   "execution_count": 18,
   "metadata": {
    "colab": {
     "base_uri": "https://localhost:8080/"
    },
    "id": "2zRfnxLpbQ6M",
    "outputId": "27706df6-3fb7-4531-a477-66d2d62e750f"
   },
   "outputs": [
    {
     "name": "stdout",
     "output_type": "stream",
     "text": [
      "Test Accuracy:  0.9073825478553772\n"
     ]
    }
   ],
   "source": [
    "testing_loss, testing_accuracy = model.evaluate(X_test, y_test, verbose=0)\n",
    "print(\"Test Accuracy: \",testing_accuracy)"
   ]
  },
  {
   "cell_type": "code",
   "execution_count": 19,
   "metadata": {
    "id": "1e5nUXY8bcsQ"
   },
   "outputs": [],
   "source": []
  }
 ],
 "metadata": {
  "colab": {
   "provenance": []
  },
  "kernelspec": {
   "display_name": "Python 3 (ipykernel)",
   "language": "python",
   "name": "python3"
  },
  "language_info": {
   "codemirror_mode": {
    "name": "ipython",
    "version": 3
   },
   "file_extension": ".py",
   "mimetype": "text/x-python",
   "name": "python",
   "nbconvert_exporter": "python",
   "pygments_lexer": "ipython3",
   "version": "3.12.3"
  }
 },
 "nbformat": 4,
 "nbformat_minor": 4
}
